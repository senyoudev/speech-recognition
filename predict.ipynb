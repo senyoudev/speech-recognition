{
 "cells": [
  {
   "cell_type": "code",
   "execution_count": 1,
   "id": "6d31cb84",
   "metadata": {},
   "outputs": [],
   "source": [
    "import librosa\n",
    "import tensorflow as tf\n",
    "import numpy as np\n",
    "import matplotlib.pyplot as plt\n",
    "import librosa.display\n"
   ]
  },
  {
   "cell_type": "code",
   "execution_count": 2,
   "id": "dab4e2b5",
   "metadata": {},
   "outputs": [],
   "source": [
    "SAVED_MODEL_PATH = \"model.h5\"\n",
    "SAMPLES_TO_CONSIDER = 22050"
   ]
  },
  {
   "cell_type": "code",
   "execution_count": 3,
   "id": "5ea8561d",
   "metadata": {},
   "outputs": [],
   "source": [
    "model = tf.keras.models.load_model(SAVED_MODEL_PATH)\n",
    "mapping =  [\n",
    "        \"down\",\n",
    "        \"go\",\n",
    "        \"left\",\n",
    "        \"no\",\n",
    "        \"off\",\n",
    "        \"on\",\n",
    "        \"right\",\n",
    "        \"stop\",\n",
    "        \"up\",\n",
    "        \"yes\"\n",
    "    ]"
   ]
  },
  {
   "cell_type": "code",
   "execution_count": 5,
   "id": "d677a50f",
   "metadata": {},
   "outputs": [],
   "source": [
    "def preprocess(file_path, num_mfcc=13, n_fft=2048, hop_length=512):\n",
    "    \"\"\"Extract MFCCs from audio file.\n",
    "    :param file_path (str): Path of audio file\n",
    "    :param num_mfcc (int): # of coefficients to extract\n",
    "    :param n_fft (int): Interval we consider to apply STFT. Measured in # of samples\n",
    "    :param hop_length (int): Sliding window for STFT. Measured in # of samples\n",
    "    :return MFCCs (ndarray): 2-dim array with MFCC data of shape (# time steps, # coefficients)\n",
    "    \"\"\"\n",
    "    # load audio file\n",
    "    signal, sample_rate = librosa.load(file_path)\n",
    "\n",
    "    signal, sample_rate = librosa.load(file_path)\n",
    "\n",
    "    if len(signal) >= SAMPLES_TO_CONSIDER:\n",
    "            # ensure consistency of the length of the signal\n",
    "        signal = signal[:SAMPLES_TO_CONSIDER]\n",
    "\n",
    "            # extract MFCCs\n",
    "        MFCCs = librosa.feature.mfcc(signal, sample_rate, n_mfcc=num_mfcc, n_fft=n_fft,\n",
    "                                         hop_length=hop_length)\n",
    "        plt.plot()\n",
    "        img = librosa.display.specshow(MFCCs)\n",
    "        plt.xlabel(\"Time\",fontsize='13')\n",
    "        plt.title(\"MFCCs\")\n",
    "    return MFCCs.T"
   ]
  },
  {
   "cell_type": "code",
   "execution_count": 6,
   "id": "831d4940",
   "metadata": {},
   "outputs": [],
   "source": [
    "def predict( file_path):\n",
    "    \"\"\"\n",
    "    :param file_path (str): Path to audio file to predict\n",
    "    :return predicted_keyword (str): Keyword predicted by the model\n",
    "    \"\"\"\n",
    "\n",
    "    # extract MFCC\n",
    "    MFCCs = preprocess(file_path)\n",
    "\n",
    "    # we need a 4-dim array to feed to the model for prediction: (# samples, # time steps, # coefficients, 1)\n",
    "    MFCCs = MFCCs[np.newaxis, ..., np.newaxis]\n",
    "    # get the predicted label\n",
    "    predictions = model.predict(MFCCs)\n",
    "    predicted_index = np.argmax(predictions)\n",
    "    predicted_keyword = mapping[predicted_index]\n",
    "    return predicted_keyword"
   ]
  },
  {
   "cell_type": "code",
   "execution_count": 7,
   "id": "5278151e",
   "metadata": {},
   "outputs": [],
   "source": [
    "filename = \"./test/0b40aa8e_nohash_0.wav\"\n",
    "filename2 = \"test/left.wav\""
   ]
  },
  {
   "cell_type": "code",
   "execution_count": 8,
   "id": "6bf10075",
   "metadata": {},
   "outputs": [
    {
     "name": "stderr",
     "output_type": "stream",
     "text": [
      "C:\\Users\\youne\\AppData\\Local\\Temp\\ipykernel_13992\\3049193327.py:19: FutureWarning: Pass y=[ 1.4537673e-04  1.6131745e-04  1.6143863e-04 ... -5.8839792e-05\n",
      " -1.6382284e-04 -1.7671520e-04], sr=22050 as keyword args. From version 0.10 passing these as positional arguments will result in an error\n",
      "  MFCCs = librosa.feature.mfcc(signal, sample_rate, n_mfcc=num_mfcc, n_fft=n_fft,\n"
     ]
    },
    {
     "name": "stdout",
     "output_type": "stream",
     "text": [
      "The word in the audio file is left\n"
     ]
    },
    {
     "data": {
      "image/png": "[encoded data removed]",
      "text/plain": [
       "<Figure size 432x288 with 1 Axes>"
      ]
     },
     "metadata": {},
     "output_type": "display_data"
    }
   ],
   "source": [
    "keyword = predict(filename2)\n",
    "print(f\"The word in the audio file is {keyword}\")"
   ]
  },
  {
   "cell_type": "code",
   "execution_count": null,
   "id": "601fd828",
   "metadata": {},
   "outputs": [],
   "source": []
  },
  {
   "cell_type": "code",
   "execution_count": null,
   "id": "7b397797",
   "metadata": {},
   "outputs": [],
   "source": []
  }
 ],
 "metadata": {
  "kernelspec": {
   "display_name": "Python 3 (ipykernel)",
   "language": "python",
   "name": "python3"
  },
  "language_info": {
   "codemirror_mode": {
    "name": "ipython",
    "version": 3
   },
   "file_extension": ".py",
   "mimetype": "text/x-python",
   "name": "python",
   "nbconvert_exporter": "python",
   "pygments_lexer": "ipython3",
   "version": "3.9.12"
  }
 },
 "nbformat": 4,
 "nbformat_minor": 5
}
